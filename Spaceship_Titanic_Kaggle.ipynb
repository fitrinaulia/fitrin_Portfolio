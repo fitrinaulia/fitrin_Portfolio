{
  "nbformat": 4,
  "nbformat_minor": 0,
  "metadata": {
    "colab": {
      "provenance": [],
      "collapsed_sections": [],
      "authorship_tag": "ABX9TyNh10rM1a7NivnRV0QbbOlr",
      "include_colab_link": true
    },
    "kernelspec": {
      "name": "python3",
      "display_name": "Python 3"
    },
    "language_info": {
      "name": "python"
    }
  },
  "cells": [
    {
      "cell_type": "markdown",
      "metadata": {
        "id": "view-in-github",
        "colab_type": "text"
      },
      "source": [
        "<a href=\"https://colab.research.google.com/github/fitrinaulia/fitrinaulia.github.io/blob/main/Spaceship_Titanic_Kaggle.ipynb\" target=\"_parent\"><img src=\"https://colab.research.google.com/assets/colab-badge.svg\" alt=\"Open In Colab\"/></a>"
      ]
    },
    {
      "cell_type": "markdown",
      "source": [
        "# Spaceship-Titanic Transported Prediction\n",
        "Spaceship-Titanic dataset is obtained from https://www.kaggle.com/c/spaceship-titanic. It has goal to predict which passengers were transported to an alternate dimention after the ship collided with a spacetime anomaly hidden within a dust cloud. Pretty much likely the Titanic ship whick sinked after hitting an iceberg, but this one is an outer-space version.\n",
        "\n",
        "---\n",
        "The dataset contains two files: **train.csv** is used to train the model and **test.csv** is the data test which we will predict.\n",
        "\n",
        "---\n",
        "In this project I do some data exploration and analysis, data pre-processing, and prediction using Random Forest Classifier.\n",
        "\n",
        "\n",
        "\n"
      ],
      "metadata": {
        "id": "_9-KUp2dUq6I"
      }
    },
    {
      "cell_type": "markdown",
      "source": [
        "## Data Load and Exploration\n",
        "First, we will explore what's inside this data. The data contains information:\n",
        "* PassengerId - A unique Id for each passenger. Each Id takes the form gggg_pp where gggg indicates a group the passenger is travelling with and pp is their number within the group. People in a group are often family members, but not always.\n",
        "* HomePlanet - The planet the passenger departed from, typically their planet of permanent residence.\n",
        "* CryoSleep - Indicates whether the passenger elected to be put into suspended animation for the duration of the voyage. Passengers in cryosleep are confined to their cabins.\n",
        "* Cabin - The cabin number where the passenger is staying. Takes the form deck/num/side, where side can be either P for Port or S for Starboard.\n",
        "* Destination - The planet the passenger will be debarking to.\n",
        "* Age - The age of the passenger.\n",
        "* VIP - Whether the passenger has paid for special VIP service during the voyage.\n",
        "* RoomService, FoodCourt, ShoppingMall, Spa, VRDeck - Amount the passenger has billed at each of the Spaceship Titanic's many luxury amenities.\n",
        "* Name - The first and last names of the passenger.\n",
        "* Transported - Whether the passenger was transported to another dimension. This is the target, the column you are trying to predict.\n",
        "\n"
      ],
      "metadata": {
        "id": "b58588J_U96-"
      }
    },
    {
      "cell_type": "code",
      "source": [
        "#import required libraries\n",
        "import pandas as pd\n",
        "import seaborn as sns\n",
        "import matplotlib.pyplot as plt"
      ],
      "metadata": {
        "id": "5ru34uFTxO3O"
      },
      "execution_count": 135,
      "outputs": []
    },
    {
      "cell_type": "markdown",
      "source": [
        "First, let's look what is inside train.csv"
      ],
      "metadata": {
        "id": "cihtsa3i2Oiv"
      }
    },
    {
      "cell_type": "code",
      "source": [
        "#EXPLORING TRAIN DATA\n",
        "df_train = pd.read_csv('train.csv')\n",
        "#data exploration\n",
        "print('\\n first 5 rows: ')\n",
        "print(df_train.head())\n",
        "print('\\n data info: ')\n",
        "print(df_train.info())\n",
        "print('\\n statistical information: ')\n",
        "print(df_train.describe().T)\n",
        "print('\\n data shape: ')\n",
        "print(df_train.shape)\n",
        "print('\\n train data distribution: ')\n",
        "print(df_train.groupby(['Transported']).size())\n"
      ],
      "metadata": {
        "colab": {
          "base_uri": "https://localhost:8080/"
        },
        "id": "kaqcEARgxFs0",
        "outputId": "b02e88e9-6a43-4f2d-d1cd-53d7abf24563"
      },
      "execution_count": 136,
      "outputs": [
        {
          "output_type": "stream",
          "name": "stdout",
          "text": [
            "\n",
            " first 5 rows: \n",
            "  PassengerId HomePlanet CryoSleep  Cabin  Destination   Age    VIP  \\\n",
            "0     0001_01     Europa     False  B/0/P  TRAPPIST-1e  39.0  False   \n",
            "1     0002_01      Earth     False  F/0/S  TRAPPIST-1e  24.0  False   \n",
            "2     0003_01     Europa     False  A/0/S  TRAPPIST-1e  58.0   True   \n",
            "3     0003_02     Europa     False  A/0/S  TRAPPIST-1e  33.0  False   \n",
            "4     0004_01      Earth     False  F/1/S  TRAPPIST-1e  16.0  False   \n",
            "\n",
            "   RoomService  FoodCourt  ShoppingMall     Spa  VRDeck               Name  \\\n",
            "0          0.0        0.0           0.0     0.0     0.0    Maham Ofracculy   \n",
            "1        109.0        9.0          25.0   549.0    44.0       Juanna Vines   \n",
            "2         43.0     3576.0           0.0  6715.0    49.0      Altark Susent   \n",
            "3          0.0     1283.0         371.0  3329.0   193.0       Solam Susent   \n",
            "4        303.0       70.0         151.0   565.0     2.0  Willy Santantines   \n",
            "\n",
            "   Transported  \n",
            "0        False  \n",
            "1         True  \n",
            "2        False  \n",
            "3        False  \n",
            "4         True  \n",
            "\n",
            " data info: \n",
            "<class 'pandas.core.frame.DataFrame'>\n",
            "RangeIndex: 8693 entries, 0 to 8692\n",
            "Data columns (total 14 columns):\n",
            " #   Column        Non-Null Count  Dtype  \n",
            "---  ------        --------------  -----  \n",
            " 0   PassengerId   8693 non-null   object \n",
            " 1   HomePlanet    8492 non-null   object \n",
            " 2   CryoSleep     8476 non-null   object \n",
            " 3   Cabin         8494 non-null   object \n",
            " 4   Destination   8511 non-null   object \n",
            " 5   Age           8514 non-null   float64\n",
            " 6   VIP           8490 non-null   object \n",
            " 7   RoomService   8512 non-null   float64\n",
            " 8   FoodCourt     8510 non-null   float64\n",
            " 9   ShoppingMall  8485 non-null   float64\n",
            " 10  Spa           8510 non-null   float64\n",
            " 11  VRDeck        8505 non-null   float64\n",
            " 12  Name          8493 non-null   object \n",
            " 13  Transported   8693 non-null   bool   \n",
            "dtypes: bool(1), float64(6), object(7)\n",
            "memory usage: 891.5+ KB\n",
            "None\n",
            "\n",
            " statistical information: \n",
            "               count        mean          std  min   25%   50%   75%      max\n",
            "Age           8514.0   28.827930    14.489021  0.0  19.0  27.0  38.0     79.0\n",
            "RoomService   8512.0  224.687617   666.717663  0.0   0.0   0.0  47.0  14327.0\n",
            "FoodCourt     8510.0  458.077203  1611.489240  0.0   0.0   0.0  76.0  29813.0\n",
            "ShoppingMall  8485.0  173.729169   604.696458  0.0   0.0   0.0  27.0  23492.0\n",
            "Spa           8510.0  311.138778  1136.705535  0.0   0.0   0.0  59.0  22408.0\n",
            "VRDeck        8505.0  304.854791  1145.717189  0.0   0.0   0.0  46.0  24133.0\n",
            "\n",
            " data shape: \n",
            "(8693, 14)\n",
            "\n",
            " train data distribution: \n",
            "Transported\n",
            "False    4315\n",
            "True     4378\n",
            "dtype: int64\n"
          ]
        }
      ]
    },
    {
      "cell_type": "markdown",
      "source": [
        "This train.csv contains two third (8693) of the passengers to be used as training data. We can see more than half passengers are transported to other dimention."
      ],
      "metadata": {
        "id": "ghuN3FM62i5I"
      }
    },
    {
      "cell_type": "markdown",
      "source": [
        "Now, let's see the second file, test.csv"
      ],
      "metadata": {
        "id": "0sZhOFwQ3mfy"
      }
    },
    {
      "cell_type": "code",
      "source": [
        "#EXPLORING TEST DATA\n",
        "df_test = pd.read_csv('test.csv')\n",
        "#data exploration\n",
        "print('\\n first 5 rows: ')\n",
        "print(df_test.head())\n",
        "print('\\n data info: ')\n",
        "print(df_test.info())\n",
        "print('\\n statistical information: ')\n",
        "print(df_test.describe().T)\n",
        "print('\\n data shape: ')\n",
        "print(df_test.shape)"
      ],
      "metadata": {
        "colab": {
          "base_uri": "https://localhost:8080/"
        },
        "id": "m_GyJY-T1wFY",
        "outputId": "0520c0b8-da5b-4e1c-b033-93fbfea06739"
      },
      "execution_count": 137,
      "outputs": [
        {
          "output_type": "stream",
          "name": "stdout",
          "text": [
            "\n",
            " first 5 rows: \n",
            "  PassengerId HomePlanet CryoSleep  Cabin  Destination   Age    VIP  \\\n",
            "0     0013_01      Earth      True  G/3/S  TRAPPIST-1e  27.0  False   \n",
            "1     0018_01      Earth     False  F/4/S  TRAPPIST-1e  19.0  False   \n",
            "2     0019_01     Europa      True  C/0/S  55 Cancri e  31.0  False   \n",
            "3     0021_01     Europa     False  C/1/S  TRAPPIST-1e  38.0  False   \n",
            "4     0023_01      Earth     False  F/5/S  TRAPPIST-1e  20.0  False   \n",
            "\n",
            "   RoomService  FoodCourt  ShoppingMall     Spa  VRDeck              Name  \n",
            "0          0.0        0.0           0.0     0.0     0.0   Nelly Carsoning  \n",
            "1          0.0        9.0           0.0  2823.0     0.0    Lerome Peckers  \n",
            "2          0.0        0.0           0.0     0.0     0.0   Sabih Unhearfus  \n",
            "3          0.0     6652.0           0.0   181.0   585.0  Meratz Caltilter  \n",
            "4         10.0        0.0         635.0     0.0     0.0   Brence Harperez  \n",
            "\n",
            " data info: \n",
            "<class 'pandas.core.frame.DataFrame'>\n",
            "RangeIndex: 4277 entries, 0 to 4276\n",
            "Data columns (total 13 columns):\n",
            " #   Column        Non-Null Count  Dtype  \n",
            "---  ------        --------------  -----  \n",
            " 0   PassengerId   4277 non-null   object \n",
            " 1   HomePlanet    4190 non-null   object \n",
            " 2   CryoSleep     4184 non-null   object \n",
            " 3   Cabin         4177 non-null   object \n",
            " 4   Destination   4185 non-null   object \n",
            " 5   Age           4186 non-null   float64\n",
            " 6   VIP           4184 non-null   object \n",
            " 7   RoomService   4195 non-null   float64\n",
            " 8   FoodCourt     4171 non-null   float64\n",
            " 9   ShoppingMall  4179 non-null   float64\n",
            " 10  Spa           4176 non-null   float64\n",
            " 11  VRDeck        4197 non-null   float64\n",
            " 12  Name          4183 non-null   object \n",
            "dtypes: float64(6), object(7)\n",
            "memory usage: 434.5+ KB\n",
            "None\n",
            "\n",
            " statistical information: \n",
            "               count        mean          std  min   25%   50%   75%      max\n",
            "Age           4186.0   28.658146    14.179072  0.0  19.0  26.0  37.0     79.0\n",
            "RoomService   4195.0  219.266269   607.011289  0.0   0.0   0.0  53.0  11567.0\n",
            "FoodCourt     4171.0  439.484296  1527.663045  0.0   0.0   0.0  78.0  25273.0\n",
            "ShoppingMall  4179.0  177.295525   560.821123  0.0   0.0   0.0  33.0   8292.0\n",
            "Spa           4176.0  303.052443  1117.186015  0.0   0.0   0.0  50.0  19844.0\n",
            "VRDeck        4197.0  310.710031  1246.994742  0.0   0.0   0.0  36.0  22272.0\n",
            "\n",
            " data shape: \n",
            "(4277, 13)\n"
          ]
        }
      ]
    },
    {
      "cell_type": "markdown",
      "source": [
        "This file contains 4277 data, the rest of passengers, to be used as testing data. That's why there's no 'Transported' column in this data."
      ],
      "metadata": {
        "id": "8QzBrueD3zFM"
      }
    },
    {
      "cell_type": "markdown",
      "source": [
        "## EDA\n",
        "We want to see if there's any reason or features causing passengers to be transported. We will see the distribution of some categorical features below."
      ],
      "metadata": {
        "id": "J8m2uurbVGz0"
      }
    },
    {
      "cell_type": "code",
      "source": [
        "#Distribution of Categorical Features\n",
        "column = ['HomePlanet', 'Destination', 'CryoSleep', 'VIP']\n",
        "fig = plt.figure(figsize=(15,12))\n",
        "for i, name in enumerate(column):\n",
        "  ax = fig.add_subplot(4, 1, i+1)\n",
        "  sns.countplot(x=name, data=df_train, axes=ax, hue='Transported')"
      ],
      "metadata": {
        "colab": {
          "base_uri": "https://localhost:8080/",
          "height": 714
        },
        "id": "6NYcxZXG0wrY",
        "outputId": "a945b67a-a679-4ec3-c975-edfd9f7e2c9b"
      },
      "execution_count": 138,
      "outputs": [
        {
          "output_type": "display_data",
          "data": {
            "text/plain": [
              "<Figure size 1080x864 with 4 Axes>"
            ],
            "image/png": "[encoded data removed]"
          },
          "metadata": {
            "needs_background": "light"
          }
        }
      ]
    },
    {
      "cell_type": "markdown",
      "source": [
        "As we can see, there is no pretty much contidion causing why a passenger is transported. But there is maybe causality in 'Cryosleep' feature. Passengers who are in cryosleep is likely to be transported than passengers who aren't."
      ],
      "metadata": {
        "id": "gT71lUUK4yFs"
      }
    },
    {
      "cell_type": "code",
      "source": [
        "#Age\n",
        "df_train['Age'].hist()"
      ],
      "metadata": {
        "colab": {
          "base_uri": "https://localhost:8080/",
          "height": 282
        },
        "id": "IHYzUP4564w-",
        "outputId": "d3a83b9c-148e-46a4-cd97-7642beef88b4"
      },
      "execution_count": 139,
      "outputs": [
        {
          "output_type": "execute_result",
          "data": {
            "text/plain": [
              "<matplotlib.axes._subplots.AxesSubplot at 0x7f9431f55490>"
            ]
          },
          "metadata": {},
          "execution_count": 139
        },
        {
          "output_type": "display_data",
          "data": {
            "text/plain": [
              "<Figure size 432x288 with 1 Axes>"
            ],
            "image/png": "[encoded data removed]"
          },
          "metadata": {
            "needs_background": "light"
          }
        }
      ]
    },
    {
      "cell_type": "code",
      "source": [
        "sns.lmplot(x='Age', y='Transported', data=df_train)"
      ],
      "metadata": {
        "colab": {
          "base_uri": "https://localhost:8080/",
          "height": 386
        },
        "id": "kqJQXSX47OGN",
        "outputId": "890fabc9-0e53-40e2-eccb-80e46e8d8f16"
      },
      "execution_count": 140,
      "outputs": [
        {
          "output_type": "execute_result",
          "data": {
            "text/plain": [
              "<seaborn.axisgrid.FacetGrid at 0x7f9432069790>"
            ]
          },
          "metadata": {},
          "execution_count": 140
        },
        {
          "output_type": "display_data",
          "data": {
            "text/plain": [
              "<Figure size 360x360 with 1 Axes>"
            ],
            "image/png": "[encoded data removed]"
          },
          "metadata": {
            "needs_background": "light"
          }
        }
      ]
    },
    {
      "cell_type": "markdown",
      "source": [
        "In 'Age' feature, old passengers are less likely to be transported."
      ],
      "metadata": {
        "id": "mWB1zn3p5XkD"
      }
    },
    {
      "cell_type": "code",
      "source": [
        "sns.heatmap(df_train.corr())"
      ],
      "metadata": {
        "colab": {
          "base_uri": "https://localhost:8080/",
          "height": 344
        },
        "id": "RqV7Llck8okD",
        "outputId": "eb215dd2-8267-4438-e04a-eea34f34c4ce"
      },
      "execution_count": 157,
      "outputs": [
        {
          "output_type": "execute_result",
          "data": {
            "text/plain": [
              "<matplotlib.axes._subplots.AxesSubplot at 0x7f94320fe190>"
            ]
          },
          "metadata": {},
          "execution_count": 157
        },
        {
          "output_type": "display_data",
          "data": {
            "text/plain": [
              "<Figure size 432x288 with 2 Axes>"
            ],
            "image/png": "[encoded data removed]"
          },
          "metadata": {
            "needs_background": "light"
          }
        }
      ]
    },
    {
      "cell_type": "markdown",
      "source": [
        "Hmm, yes. It's difficult to find correlation between the features in this dataset."
      ],
      "metadata": {
        "id": "tZVXObxy8vVT"
      }
    },
    {
      "cell_type": "markdown",
      "source": [
        "## Data Preprocessing\n",
        "Before we train our model, we need to do data pre-processing. In this dataset we will handling missing values and labeling data."
      ],
      "metadata": {
        "id": "jmDHTs2nV3ZS"
      }
    },
    {
      "cell_type": "markdown",
      "source": [
        "Let us check how much missing values we need to handle in both files."
      ],
      "metadata": {
        "id": "mSEti3oP62ti"
      }
    },
    {
      "cell_type": "code",
      "source": [
        "#Missing values in train.csv\n",
        "print('missing values: ')\n",
        "print(df_train.isnull().sum())"
      ],
      "metadata": {
        "colab": {
          "base_uri": "https://localhost:8080/"
        },
        "id": "_7ww7Qo1ALF8",
        "outputId": "f869fd55-3a3c-4c58-cb53-07932e134973"
      },
      "execution_count": 141,
      "outputs": [
        {
          "output_type": "stream",
          "name": "stdout",
          "text": [
            "missing values: \n",
            "PassengerId       0\n",
            "HomePlanet      201\n",
            "CryoSleep       217\n",
            "Cabin           199\n",
            "Destination     182\n",
            "Age             179\n",
            "VIP             203\n",
            "RoomService     181\n",
            "FoodCourt       183\n",
            "ShoppingMall    208\n",
            "Spa             183\n",
            "VRDeck          188\n",
            "Name            200\n",
            "Transported       0\n",
            "dtype: int64\n"
          ]
        }
      ]
    },
    {
      "cell_type": "code",
      "source": [
        "#Missing values in test.csv\n",
        "print('missing values: ')\n",
        "print(df_test.isnull().sum())"
      ],
      "metadata": {
        "colab": {
          "base_uri": "https://localhost:8080/"
        },
        "id": "pJZdPYcfAbGr",
        "outputId": "dfd0a2b8-ee37-4de5-b1fa-5e0e7d3df74f"
      },
      "execution_count": 142,
      "outputs": [
        {
          "output_type": "stream",
          "name": "stdout",
          "text": [
            "missing values: \n",
            "PassengerId       0\n",
            "HomePlanet       87\n",
            "CryoSleep        93\n",
            "Cabin           100\n",
            "Destination      92\n",
            "Age              91\n",
            "VIP              93\n",
            "RoomService      82\n",
            "FoodCourt       106\n",
            "ShoppingMall     98\n",
            "Spa             101\n",
            "VRDeck           80\n",
            "Name             94\n",
            "dtype: int64\n"
          ]
        }
      ]
    },
    {
      "cell_type": "markdown",
      "source": [
        "### Inputing Missing Values"
      ],
      "metadata": {
        "id": "4EA9Au8fW7Ig"
      }
    },
    {
      "cell_type": "code",
      "source": [
        "#Categorial features\n",
        "data = [df_train, df_test]\n",
        "catg = ['HomePlanet', 'CryoSleep', 'Destination', 'VIP']\n",
        "\n",
        "for df in data:\n",
        "  for i in catg:\n",
        "    df[i] = df[i].fillna(df[i].mode()[0])"
      ],
      "metadata": {
        "id": "L5eA26enBPax"
      },
      "execution_count": 143,
      "outputs": []
    },
    {
      "cell_type": "code",
      "source": [
        "#Numerical Features\n",
        "rs = ['Age', 'RoomService', 'FoodCourt', 'ShoppingMall', 'Spa', 'VRDeck']\n",
        "\n",
        "for df in data:\n",
        "  for i in rs:\n",
        "    x = df[i].median()\n",
        "    df[i].fillna(x, inplace=True)"
      ],
      "metadata": {
        "id": "GJ7qq_2MC_4-"
      },
      "execution_count": 144,
      "outputs": []
    },
    {
      "cell_type": "markdown",
      "source": [
        "We can drop some columns like Name and Cabin"
      ],
      "metadata": {
        "id": "cnWuTSrW7RpM"
      }
    },
    {
      "cell_type": "code",
      "source": [
        "#Drop column for model\n",
        "non = ['Name', 'Cabin']\n",
        "for df in data:\n",
        "  for i in non:\n",
        "    df.drop(i, axis = 1, inplace=True)"
      ],
      "metadata": {
        "id": "uwVdVp48D4tC"
      },
      "execution_count": 145,
      "outputs": []
    },
    {
      "cell_type": "markdown",
      "source": [
        "Last check"
      ],
      "metadata": {
        "id": "YGC5LfuV7buG"
      }
    },
    {
      "cell_type": "code",
      "source": [
        "df_train.isnull().sum()"
      ],
      "metadata": {
        "colab": {
          "base_uri": "https://localhost:8080/"
        },
        "id": "6lMvKaX07Y53",
        "outputId": "f7eb17df-5782-46a3-cc8d-f575c529647f"
      },
      "execution_count": 146,
      "outputs": [
        {
          "output_type": "execute_result",
          "data": {
            "text/plain": [
              "PassengerId     0\n",
              "HomePlanet      0\n",
              "CryoSleep       0\n",
              "Destination     0\n",
              "Age             0\n",
              "VIP             0\n",
              "RoomService     0\n",
              "FoodCourt       0\n",
              "ShoppingMall    0\n",
              "Spa             0\n",
              "VRDeck          0\n",
              "Transported     0\n",
              "dtype: int64"
            ]
          },
          "metadata": {},
          "execution_count": 146
        }
      ]
    },
    {
      "cell_type": "code",
      "source": [
        "df_test.isnull().sum()"
      ],
      "metadata": {
        "colab": {
          "base_uri": "https://localhost:8080/"
        },
        "id": "j5hQ6kX07WwY",
        "outputId": "fda5e820-2ca4-4a6d-8c7a-9db9f6ff9ac5"
      },
      "execution_count": 147,
      "outputs": [
        {
          "output_type": "execute_result",
          "data": {
            "text/plain": [
              "PassengerId     0\n",
              "HomePlanet      0\n",
              "CryoSleep       0\n",
              "Destination     0\n",
              "Age             0\n",
              "VIP             0\n",
              "RoomService     0\n",
              "FoodCourt       0\n",
              "ShoppingMall    0\n",
              "Spa             0\n",
              "VRDeck          0\n",
              "dtype: int64"
            ]
          },
          "metadata": {},
          "execution_count": 147
        }
      ]
    },
    {
      "cell_type": "markdown",
      "source": [
        "### Encoding Categorial Features"
      ],
      "metadata": {
        "id": "ThK-AENdXAb1"
      }
    },
    {
      "cell_type": "code",
      "source": [
        "#Label encoding\n",
        "from sklearn.preprocessing import LabelEncoder\n",
        "LE = LabelEncoder()\n",
        "\n",
        "cod = ['HomePlanet', 'Destination']\n",
        "for df in data:\n",
        "  for i in cod:\n",
        "    df[i] = LE.fit_transform(df[i])\n",
        "\n",
        "df_train.head()    "
      ],
      "metadata": {
        "colab": {
          "base_uri": "https://localhost:8080/",
          "height": 206
        },
        "id": "kE-37QYPF3d3",
        "outputId": "3726a16f-4602-4218-9adf-d286c06fd8fc"
      },
      "execution_count": 148,
      "outputs": [
        {
          "output_type": "execute_result",
          "data": {
            "text/plain": [
              "  PassengerId  HomePlanet  CryoSleep  Destination   Age    VIP  RoomService  \\\n",
              "0     0001_01           1      False            2  39.0  False          0.0   \n",
              "1     0002_01           0      False            2  24.0  False        109.0   \n",
              "2     0003_01           1      False            2  58.0   True         43.0   \n",
              "3     0003_02           1      False            2  33.0  False          0.0   \n",
              "4     0004_01           0      False            2  16.0  False        303.0   \n",
              "\n",
              "   FoodCourt  ShoppingMall     Spa  VRDeck  Transported  \n",
              "0        0.0           0.0     0.0     0.0        False  \n",
              "1        9.0          25.0   549.0    44.0         True  \n",
              "2     3576.0           0.0  6715.0    49.0        False  \n",
              "3     1283.0         371.0  3329.0   193.0        False  \n",
              "4       70.0         151.0   565.0     2.0         True  "
            ],
            "text/html": [
              "\n",
              "  <div id=\"df-2005e664-337a-4354-a4ac-9b4a53c5eae8\">\n",
              "    <div class=\"colab-df-container\">\n",
              "      <div>\n",
              "<style scoped>\n",
              "    .dataframe tbody tr th:only-of-type {\n",
              "        vertical-align: middle;\n",
              "    }\n",
              "\n",
              "    .dataframe tbody tr th {\n",
              "        vertical-align: top;\n",
              "    }\n",
              "\n",
              "    .dataframe thead th {\n",
              "        text-align: right;\n",
              "    }\n",
              "</style>\n",
              "<table border=\"1\" class=\"dataframe\">\n",
              "  <thead>\n",
              "    <tr style=\"text-align: right;\">\n",
              "      <th></th>\n",
              "      <th>PassengerId</th>\n",
              "      <th>HomePlanet</th>\n",
              "      <th>CryoSleep</th>\n",
              "      <th>Destination</th>\n",
              "      <th>Age</th>\n",
              "      <th>VIP</th>\n",
              "      <th>RoomService</th>\n",
              "      <th>FoodCourt</th>\n",
              "      <th>ShoppingMall</th>\n",
              "      <th>Spa</th>\n",
              "      <th>VRDeck</th>\n",
              "      <th>Transported</th>\n",
              "    </tr>\n",
              "  </thead>\n",
              "  <tbody>\n",
              "    <tr>\n",
              "      <th>0</th>\n",
              "      <td>0001_01</td>\n",
              "      <td>1</td>\n",
              "      <td>False</td>\n",
              "      <td>2</td>\n",
              "      <td>39.0</td>\n",
              "      <td>False</td>\n",
              "      <td>0.0</td>\n",
              "      <td>0.0</td>\n",
              "      <td>0.0</td>\n",
              "      <td>0.0</td>\n",
              "      <td>0.0</td>\n",
              "      <td>False</td>\n",
              "    </tr>\n",
              "    <tr>\n",
              "      <th>1</th>\n",
              "      <td>0002_01</td>\n",
              "      <td>0</td>\n",
              "      <td>False</td>\n",
              "      <td>2</td>\n",
              "      <td>24.0</td>\n",
              "      <td>False</td>\n",
              "      <td>109.0</td>\n",
              "      <td>9.0</td>\n",
              "      <td>25.0</td>\n",
              "      <td>549.0</td>\n",
              "      <td>44.0</td>\n",
              "      <td>True</td>\n",
              "    </tr>\n",
              "    <tr>\n",
              "      <th>2</th>\n",
              "      <td>0003_01</td>\n",
              "      <td>1</td>\n",
              "      <td>False</td>\n",
              "      <td>2</td>\n",
              "      <td>58.0</td>\n",
              "      <td>True</td>\n",
              "      <td>43.0</td>\n",
              "      <td>3576.0</td>\n",
              "      <td>0.0</td>\n",
              "      <td>6715.0</td>\n",
              "      <td>49.0</td>\n",
              "      <td>False</td>\n",
              "    </tr>\n",
              "    <tr>\n",
              "      <th>3</th>\n",
              "      <td>0003_02</td>\n",
              "      <td>1</td>\n",
              "      <td>False</td>\n",
              "      <td>2</td>\n",
              "      <td>33.0</td>\n",
              "      <td>False</td>\n",
              "      <td>0.0</td>\n",
              "      <td>1283.0</td>\n",
              "      <td>371.0</td>\n",
              "      <td>3329.0</td>\n",
              "      <td>193.0</td>\n",
              "      <td>False</td>\n",
              "    </tr>\n",
              "    <tr>\n",
              "      <th>4</th>\n",
              "      <td>0004_01</td>\n",
              "      <td>0</td>\n",
              "      <td>False</td>\n",
              "      <td>2</td>\n",
              "      <td>16.0</td>\n",
              "      <td>False</td>\n",
              "      <td>303.0</td>\n",
              "      <td>70.0</td>\n",
              "      <td>151.0</td>\n",
              "      <td>565.0</td>\n",
              "      <td>2.0</td>\n",
              "      <td>True</td>\n",
              "    </tr>\n",
              "  </tbody>\n",
              "</table>\n",
              "</div>\n",
              "      <button class=\"colab-df-convert\" onclick=\"convertToInteractive('df-2005e664-337a-4354-a4ac-9b4a53c5eae8')\"\n",
              "              title=\"Convert this dataframe to an interactive table.\"\n",
              "              style=\"display:none;\">\n",
              "        \n",
              "  <svg xmlns=\"http://www.w3.org/2000/svg\" height=\"24px\"viewBox=\"0 0 24 24\"\n",
              "       width=\"24px\">\n",
              "    <path d=\"M0 0h24v24H0V0z\" fill=\"none\"/>\n",
              "    <path d=\"M18.56 5.44l.94 2.06.94-2.06 2.06-.94-2.06-.94-.94-2.06-.94 2.06-2.06.94zm-11 1L8.5 8.5l.94-2.06 2.06-.94-2.06-.94L8.5 2.5l-.94 2.06-2.06.94zm10 10l.94 2.06.94-2.06 2.06-.94-2.06-.94-.94-2.06-.94 2.06-2.06.94z\"/><path d=\"M17.41 7.96l-1.37-1.37c-.4-.4-.92-.59-1.43-.59-.52 0-1.04.2-1.43.59L10.3 9.45l-7.72 7.72c-.78.78-.78 2.05 0 2.83L4 21.41c.39.39.9.59 1.41.59.51 0 1.02-.2 1.41-.59l7.78-7.78 2.81-2.81c.8-.78.8-2.07 0-2.86zM5.41 20L4 18.59l7.72-7.72 1.47 1.35L5.41 20z\"/>\n",
              "  </svg>\n",
              "      </button>\n",
              "      \n",
              "  <style>\n",
              "    .colab-df-container {\n",
              "      display:flex;\n",
              "      flex-wrap:wrap;\n",
              "      gap: 12px;\n",
              "    }\n",
              "\n",
              "    .colab-df-convert {\n",
              "      background-color: #E8F0FE;\n",
              "      border: none;\n",
              "      border-radius: 50%;\n",
              "      cursor: pointer;\n",
              "      display: none;\n",
              "      fill: #1967D2;\n",
              "      height: 32px;\n",
              "      padding: 0 0 0 0;\n",
              "      width: 32px;\n",
              "    }\n",
              "\n",
              "    .colab-df-convert:hover {\n",
              "      background-color: #E2EBFA;\n",
              "      box-shadow: 0px 1px 2px rgba(60, 64, 67, 0.3), 0px 1px 3px 1px rgba(60, 64, 67, 0.15);\n",
              "      fill: #174EA6;\n",
              "    }\n",
              "\n",
              "    [theme=dark] .colab-df-convert {\n",
              "      background-color: #3B4455;\n",
              "      fill: #D2E3FC;\n",
              "    }\n",
              "\n",
              "    [theme=dark] .colab-df-convert:hover {\n",
              "      background-color: #434B5C;\n",
              "      box-shadow: 0px 1px 3px 1px rgba(0, 0, 0, 0.15);\n",
              "      filter: drop-shadow(0px 1px 2px rgba(0, 0, 0, 0.3));\n",
              "      fill: #FFFFFF;\n",
              "    }\n",
              "  </style>\n",
              "\n",
              "      <script>\n",
              "        const buttonEl =\n",
              "          document.querySelector('#df-2005e664-337a-4354-a4ac-9b4a53c5eae8 button.colab-df-convert');\n",
              "        buttonEl.style.display =\n",
              "          google.colab.kernel.accessAllowed ? 'block' : 'none';\n",
              "\n",
              "        async function convertToInteractive(key) {\n",
              "          const element = document.querySelector('#df-2005e664-337a-4354-a4ac-9b4a53c5eae8');\n",
              "          const dataTable =\n",
              "            await google.colab.kernel.invokeFunction('convertToInteractive',\n",
              "                                                     [key], {});\n",
              "          if (!dataTable) return;\n",
              "\n",
              "          const docLinkHtml = 'Like what you see? Visit the ' +\n",
              "            '<a target=\"_blank\" href=https://colab.research.google.com/notebooks/data_table.ipynb>data table notebook</a>'\n",
              "            + ' to learn more about interactive tables.';\n",
              "          element.innerHTML = '';\n",
              "          dataTable['output_type'] = 'display_data';\n",
              "          await google.colab.output.renderOutput(dataTable, element);\n",
              "          const docLink = document.createElement('div');\n",
              "          docLink.innerHTML = docLinkHtml;\n",
              "          element.appendChild(docLink);\n",
              "        }\n",
              "      </script>\n",
              "    </div>\n",
              "  </div>\n",
              "  "
            ]
          },
          "metadata": {},
          "execution_count": 148
        }
      ]
    },
    {
      "cell_type": "markdown",
      "source": [
        "## Model\n",
        "In this part, we will try to see which model is suited best between Random Forest, Logistic Regression, and Decission Tree."
      ],
      "metadata": {
        "id": "hh5p_A7sWAb5"
      }
    },
    {
      "cell_type": "markdown",
      "source": [
        "Make testing function:"
      ],
      "metadata": {
        "id": "CuCPiycD8JvX"
      }
    },
    {
      "cell_type": "code",
      "source": [
        "#Start Testing the Models\n",
        "from sklearn.model_selection import train_test_split\n",
        "\n",
        "X = df_train.drop('Transported', axis=1)\n",
        "y = df_train['Transported']"
      ],
      "metadata": {
        "id": "X5KIM2TwH1_7"
      },
      "execution_count": 149,
      "outputs": []
    },
    {
      "cell_type": "code",
      "source": [
        "def testing_model(model, X, y):\n",
        "  #splitting the data\n",
        "  X_train, X_test, y_train, y_test = train_test_split(X, y, test_size = 0.2, random_state = 42)\n",
        "  model.fit(X_train, y_train)\n",
        "  print('Testing Accuracy :', model.score(X_test, y_test))"
      ],
      "metadata": {
        "id": "tkcCSzHWNS7X"
      },
      "execution_count": 150,
      "outputs": []
    },
    {
      "cell_type": "markdown",
      "source": [
        "Testing the models:"
      ],
      "metadata": {
        "id": "I2NT3NYW8MaN"
      }
    },
    {
      "cell_type": "code",
      "source": [
        "#RandomForestClassifier\n",
        "from sklearn.ensemble import RandomForestClassifier\n",
        "RF = RandomForestClassifier()\n",
        "testing_model(RF, X, y)"
      ],
      "metadata": {
        "colab": {
          "base_uri": "https://localhost:8080/"
        },
        "id": "sHfmoLeHLldB",
        "outputId": "f399041f-f936-4b3d-fd47-609fbd2e957d"
      },
      "execution_count": 151,
      "outputs": [
        {
          "output_type": "stream",
          "name": "stdout",
          "text": [
            "Testing Accuracy : 0.7688326624496837\n"
          ]
        }
      ]
    },
    {
      "cell_type": "code",
      "source": [
        "#LogisticRegression\n",
        "from sklearn.linear_model import LogisticRegression\n",
        "LogR = LogisticRegression()\n",
        "testing_model(LogR, X, y)"
      ],
      "metadata": {
        "colab": {
          "base_uri": "https://localhost:8080/"
        },
        "id": "WE6Un3rQLrRB",
        "outputId": "1e82ae7a-a4bb-4b4a-9d85-ec15df077a34"
      },
      "execution_count": 152,
      "outputs": [
        {
          "output_type": "stream",
          "name": "stdout",
          "text": [
            "Testing Accuracy : 0.7671075330649799\n"
          ]
        },
        {
          "output_type": "stream",
          "name": "stderr",
          "text": [
            "/usr/local/lib/python3.7/dist-packages/sklearn/linear_model/_logistic.py:818: ConvergenceWarning: lbfgs failed to converge (status=1):\n",
            "STOP: TOTAL NO. of ITERATIONS REACHED LIMIT.\n",
            "\n",
            "Increase the number of iterations (max_iter) or scale the data as shown in:\n",
            "    https://scikit-learn.org/stable/modules/preprocessing.html\n",
            "Please also refer to the documentation for alternative solver options:\n",
            "    https://scikit-learn.org/stable/modules/linear_model.html#logistic-regression\n",
            "  extra_warning_msg=_LOGISTIC_SOLVER_CONVERGENCE_MSG,\n"
          ]
        }
      ]
    },
    {
      "cell_type": "code",
      "source": [
        "#DecisionTreeClassifier\n",
        "from sklearn.tree import DecisionTreeClassifier\n",
        "DT = DecisionTreeClassifier()\n",
        "testing_model(DT, X, y)"
      ],
      "metadata": {
        "colab": {
          "base_uri": "https://localhost:8080/"
        },
        "id": "qFwqPIpEPKw-",
        "outputId": "fe162bd5-6f82-4620-d41f-52ceaeddf802"
      },
      "execution_count": 153,
      "outputs": [
        {
          "output_type": "stream",
          "name": "stdout",
          "text": [
            "Testing Accuracy : 0.7107533064979874\n"
          ]
        }
      ]
    },
    {
      "cell_type": "markdown",
      "source": [
        "### Prediction Result Using Chosen Model\n",
        "The chosen model is Random Forest with ~76.8% accurracy."
      ],
      "metadata": {
        "id": "PINKelfjWE86"
      }
    },
    {
      "cell_type": "code",
      "source": [
        "#Using the RF model\n",
        "\n",
        "model = RF.fit(X, y)\n",
        "prediction = RF.predict(df_test)"
      ],
      "metadata": {
        "id": "9hwf4oeGI_no"
      },
      "execution_count": 154,
      "outputs": []
    },
    {
      "cell_type": "code",
      "source": [
        "#assign new column in test data\n",
        "df_test['Transported'] = prediction\n",
        "\n",
        "#prediction amount of transported passengers\n",
        "trsp = df_test[df_test.Transported == True]\n",
        "\n",
        "print('% Transported passenger: ')\n",
        "print(len(trsp)/len(df_test['Transported']))"
      ],
      "metadata": {
        "colab": {
          "base_uri": "https://localhost:8080/"
        },
        "id": "3p3OeupJQJ8L",
        "outputId": "7ab95dce-5208-4219-daae-739ce1b5b43e"
      },
      "execution_count": 155,
      "outputs": [
        {
          "output_type": "stream",
          "name": "stdout",
          "text": [
            "% Transported passenger: \n",
            "0.48258124853869533\n"
          ]
        }
      ]
    },
    {
      "cell_type": "code",
      "source": [
        "sns.countplot('Transported', data=df_test)"
      ],
      "metadata": {
        "colab": {
          "base_uri": "https://localhost:8080/",
          "height": 351
        },
        "id": "JtoiBV8cQj5o",
        "outputId": "1c65dddc-01cb-49e4-8bf5-6aab372c3686"
      },
      "execution_count": 156,
      "outputs": [
        {
          "output_type": "stream",
          "name": "stderr",
          "text": [
            "/usr/local/lib/python3.7/dist-packages/seaborn/_decorators.py:43: FutureWarning: Pass the following variable as a keyword arg: x. From version 0.12, the only valid positional argument will be `data`, and passing other arguments without an explicit keyword will result in an error or misinterpretation.\n",
            "  FutureWarning\n"
          ]
        },
        {
          "output_type": "execute_result",
          "data": {
            "text/plain": [
              "<matplotlib.axes._subplots.AxesSubplot at 0x7f94320f3e90>"
            ]
          },
          "metadata": {},
          "execution_count": 156
        },
        {
          "output_type": "display_data",
          "data": {
            "text/plain": [
              "<Figure size 432x288 with 1 Axes>"
            ],
            "image/png": "[encoded data removed]"
          },
          "metadata": {
            "needs_background": "light"
          }
        }
      ]
    },
    {
      "cell_type": "markdown",
      "source": [
        "## Summary\n",
        "There is no apparent reason from the dataset of why passengers are transported into other dimention except the 'CryoSleep' feature. This cause is debatable and is an open discussion. Here I use Random Forest model to predict the transported passengers from test.csv. I got ~48.2% passengers from testing dataset will be transported within ~76.8% accuracy. I only tested 3 models in this project and maybe there are more models with better accuracy to be used in this project."
      ],
      "metadata": {
        "id": "tb5TmFoAWXuB"
      }
    },
    {
      "cell_type": "markdown",
      "source": [
        "Thank you!"
      ],
      "metadata": {
        "id": "k6ZsWiCk9699"
      }
    }
  ]
}